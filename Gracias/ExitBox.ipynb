{
 "cells": [
  {
   "cell_type": "code",
   "execution_count": 2,
   "metadata": {
    "ExecuteTime": {
     "end_time": "2017-09-28T15:17:43.168561Z",
     "start_time": "2017-09-28T15:17:40.545336Z"
    },
    "collapsed": true
   },
   "outputs": [],
   "source": [
    "from aide_design.play import *\n",
    "import collections"
   ]
  },
  {
   "cell_type": "markdown",
   "metadata": {},
   "source": [
    "Designing the exit box for the Gracias, Lempira plant requires knowing the flow rates needed for each line. These have been collected and compiled in the master plan for Gracias. The relevant tables are reproduced here: \n",
    "\n",
    "![flow rates](images/TankFlowRates.png)\n",
    "\n",
    "![pressures](images/TankPressures.png)\n",
    "\n",
    "It is necessary to determine the correct size for each LFOM required. This is either limited by the size of the conduction line between the distribution box and the tank, or by the number and size of orifices needed in the first row of each LFOM. "
   ]
  },
  {
   "cell_type": "code",
   "execution_count": 8,
   "metadata": {
    "ExecuteTime": {
     "end_time": "2017-09-28T15:25:41.715091Z",
     "start_time": "2017-09-28T15:25:41.547393Z"
    }
   },
   "outputs": [
    {
     "name": "stdout",
     "output_type": "stream",
     "text": [
      "Required pipe sizes for the LFOMs: barrios(bella_vista=<Quantity(3.0, 'inch')>, las_palmas=<Quantity(3.0, 'inch')>, san_cristobal=<Quantity(6.0, 'inch')>, tanque_azul=<Quantity(10.0, 'inch')>)\n",
      "103.9 liter / second\n"
     ]
    },
    {
     "ename": "NameError",
     "evalue": "name 'self' is not defined",
     "output_type": "error",
     "traceback": [
      "\u001b[0;31m---------------------------------------------------------------------------\u001b[0m",
      "\u001b[0;31mNameError\u001b[0m                                 Traceback (most recent call last)",
      "\u001b[0;32m<ipython-input-8-479867041886>\u001b[0m in \u001b[0;36m<module>\u001b[0;34m()\u001b[0m\n\u001b[1;32m     31\u001b[0m \u001b[0mprint\u001b[0m\u001b[0;34m(\u001b[0m\u001b[0msum\u001b[0m\u001b[0;34m(\u001b[0m\u001b[0mflows\u001b[0m\u001b[0;34m.\u001b[0m\u001b[0mactual\u001b[0m\u001b[0;34m)\u001b[0m\u001b[0;34m)\u001b[0m\u001b[0;34m\u001b[0m\u001b[0m\n\u001b[1;32m     32\u001b[0m \u001b[0;34m\u001b[0m\u001b[0m\n\u001b[0;32m---> 33\u001b[0;31m \u001b[0;32mclass\u001b[0m \u001b[0mgracias_tuple_extended\u001b[0m\u001b[0;34m(\u001b[0m\u001b[0mgracias_tuple\u001b[0m\u001b[0;34m)\u001b[0m\u001b[0;34m:\u001b[0m\u001b[0;34m\u001b[0m\u001b[0m\n\u001b[0m\u001b[1;32m     34\u001b[0m     \u001b[0mself\u001b[0m\u001b[0;34m.\u001b[0m\u001b[0mhi\u001b[0m \u001b[0;34m=\u001b[0m \u001b[0;36m3\u001b[0m\u001b[0;34m*\u001b[0m\u001b[0mu\u001b[0m\u001b[0;34m.\u001b[0m\u001b[0mL\u001b[0m\u001b[0;34m/\u001b[0m\u001b[0mu\u001b[0m\u001b[0;34m.\u001b[0m\u001b[0ms\u001b[0m\u001b[0;34m\u001b[0m\u001b[0m\n",
      "\u001b[0;32m<ipython-input-8-479867041886>\u001b[0m in \u001b[0;36mgracias_tuple_extended\u001b[0;34m()\u001b[0m\n\u001b[1;32m     32\u001b[0m \u001b[0;34m\u001b[0m\u001b[0m\n\u001b[1;32m     33\u001b[0m \u001b[0;32mclass\u001b[0m \u001b[0mgracias_tuple_extended\u001b[0m\u001b[0;34m(\u001b[0m\u001b[0mgracias_tuple\u001b[0m\u001b[0;34m)\u001b[0m\u001b[0;34m:\u001b[0m\u001b[0;34m\u001b[0m\u001b[0m\n\u001b[0;32m---> 34\u001b[0;31m     \u001b[0mself\u001b[0m\u001b[0;34m.\u001b[0m\u001b[0mhi\u001b[0m \u001b[0;34m=\u001b[0m \u001b[0;36m3\u001b[0m\u001b[0;34m*\u001b[0m\u001b[0mu\u001b[0m\u001b[0;34m.\u001b[0m\u001b[0mL\u001b[0m\u001b[0;34m/\u001b[0m\u001b[0mu\u001b[0m\u001b[0;34m.\u001b[0m\u001b[0ms\u001b[0m\u001b[0;34m\u001b[0m\u001b[0m\n\u001b[0m",
      "\u001b[0;31mNameError\u001b[0m: name 'self' is not defined"
     ]
    }
   ],
   "source": [
    "gracias_tuple = collections.namedtuple('barrios', ['bella_vista', 'las_palmas', 'san_cristobal', 'tanque_azul'])\n",
    "flow_tuple = collections.namedtuple('flows', ['net_demand', 'gross_demand', 'actual'])\n",
    "\n",
    "net_demand = gracias_tuple(0.44*u.L/u.s, 0.74*u.L/u.s, 2.71*u.L/u.s, 22.30*u.L/u.s,)\n",
    "gross_demand = gracias_tuple(0.99*u.L/u.s, 1.19*u.L/u.s, 4.92*u.L/u.s, 32.58*u.L/u.s,)\n",
    "actual = gracias_tuple(2.1*u.L/u.s, 2.8*u.L/u.s, 9*u.L/u.s, 90*u.L/u.s,)\n",
    "flows = flow_tuple(net_demand, gross_demand, actual)\n",
    "\n",
    "#Headloss in the LFOM\n",
    "hl_lfom = 20*u.cm\n",
    "\n",
    "#Safety factor that insures that the LFOM pipe doesn't completely fill with water at the bottom row of orifices. \n",
    "#This factor is the ratio of the pipe area to the area required to contain all of the falling water. \n",
    "ratio_lfom_safety = 1.2\n",
    "\n",
    "#We will use a pipe with a relatively low SDR so that it has a thick wall to handle the many perforations.\n",
    "sdr = 26\n",
    "\n",
    "#Here we use the LFOM functions to get the key parameters that define an LFOM.\n",
    "def lfom_nd(flow):\n",
    "    return lfom.nom_diam_lfom_pipe(flow, hl_lfom, ratio_lfom_safety, sdr)\n",
    "    \n",
    "lfom_nds = gracias_tuple(*[lfom_nd(flow) for flow in list(flows.gross_demand)])\n",
    "\n",
    "print('Required pipe sizes for the LFOMs: ' + str(lfom_nds))\n",
    "    \n",
    "# # OrificeDiam = lfom.orifice_diameter(Flow, HeadlossLfom, DrillBits)\n",
    "# # LfomOrificeArray = lfom.n_lfom_orifices(Flow, HeadlossLfom, DrillBits, SdrLfom)\n",
    "# # HeightLfomOrifices = lfom.height_lfom_orifices(Flow, HeadlossLfom, DrillBits)\n",
    "\n",
    "print(sum(flows.actual))\n",
    "\n",
    "class gracias_tuple_extended(gracias_tuple):\n",
    "    self.hi = 3*u.L/u.s"
   ]
  },
  {
   "cell_type": "code",
   "execution_count": null,
   "metadata": {
    "collapsed": true
   },
   "outputs": [],
   "source": []
  }
 ],
 "metadata": {
  "kernelspec": {
   "display_name": "plant_notebooks",
   "language": "python",
   "name": "plant_notebooks"
  },
  "language_info": {
   "codemirror_mode": {
    "name": "ipython",
    "version": 3
   },
   "file_extension": ".py",
   "mimetype": "text/x-python",
   "name": "python",
   "nbconvert_exporter": "python",
   "pygments_lexer": "ipython3",
   "version": "3.6.0"
  },
  "varInspector": {
   "cols": {
    "lenName": 16,
    "lenType": 16,
    "lenVar": 40
   },
   "kernels_config": {
    "python": {
     "delete_cmd_postfix": "",
     "delete_cmd_prefix": "del ",
     "library": "var_list.py",
     "varRefreshCmd": "print(var_dic_list())"
    },
    "r": {
     "delete_cmd_postfix": ") ",
     "delete_cmd_prefix": "rm(",
     "library": "var_list.r",
     "varRefreshCmd": "cat(var_dic_list()) "
    }
   },
   "position": {
    "height": "381px",
    "left": "1051px",
    "right": "20px",
    "top": "222px",
    "width": "350px"
   },
   "types_to_exclude": [
    "module",
    "function",
    "builtin_function_or_method",
    "instance",
    "_Feature"
   ],
   "window_display": false
  }
 },
 "nbformat": 4,
 "nbformat_minor": 2
}
