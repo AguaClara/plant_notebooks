{
 "cells": [
  {
   "cell_type": "markdown",
   "metadata": {
    "collapsed": true
   },
   "source": []
  },
  {
   "cell_type": "code",
   "execution_count": null,
   "metadata": {},
   "outputs": [
    {
     "name": "stdout",
     "output_type": "stream",
     "text": [
      "Headloss in 4 inch line: 42.810180883437724 meter\n"
     ]
    }
   ],
   "source": [
    "import aide_design.physchem as pc\n",
    "from aide_design.units import unit_registry as u\n",
    "import aide_design.expert_inputs as ei\n",
    "import aide_design.materials_database as mat\n",
    "import aide_design.pipedatabase as pipe\n",
    "\n",
    "flow = 60 *u.L/u.s\n",
    "head = 5 * u.m\n",
    "nd_pipe_train_a = 4 *u.inch\n",
    "sdr_pipe = 17\n",
    "nd_pipe_train_b = 6 * u.inch\n",
    "pipe_length_trains = 50 *u.m\n",
    "k_pipe = ei.K_MINOR_EL90 * 5\n",
    "PVC_ROUGHNESS = mat.PIPE_ROUGH_PVC\n",
    "NU_WATER = ei.NU_WATER \n",
    "\n",
    "headloss_train_a = pc.headloss(flow, pipe.ID_SDR(nd_pipe_train_a,sdr_pipe),pipe_length_trains,NU_WATER,PVC_ROUGHNESS,k_pipe)\n",
    "headloss_train_b = pc.headloss(flow, pipe.ID_SDR(nd_pipe_train_b,sdr_pipe),pipe_length_trains,NU_WATER,PVC_ROUGHNESS,k_pipe)\n",
    "print(\"Headloss in 4 inch line: \" + str(headloss_train_a))\n",
    "print(\"Headloss in 6 inch line: \" + str(headloss_train_b))\n",
    "\n",
    "\n"
   ]
  },
  {
   "cell_type": "code",
   "execution_count": null,
   "metadata": {},
   "outputs": [],
   "source": []
  }
 ],
 "metadata": {
  "kernelspec": {
   "display_name": "Python 2",
   "language": "python",
   "name": "python2"
  },
  "language_info": {
   "codemirror_mode": {
    "name": "ipython",
    "version": 2
   },
   "file_extension": ".py",
   "mimetype": "text/x-python",
   "name": "python",
   "nbconvert_exporter": "python",
   "pygments_lexer": "ipython2",
   "version": "2.7.6"
  }
 },
 "nbformat": 4,
 "nbformat_minor": 0
}
