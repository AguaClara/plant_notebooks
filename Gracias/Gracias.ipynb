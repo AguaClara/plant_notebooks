{
 "cells": [
  {
   "cell_type": "markdown",
   "metadata": {
    "collapsed": true
   },
   "source": [
    "# Flow Distribution for the Two Treatment Trains\n",
    "## Problem Definition\n",
    "The two 60 L/s trains need proper flow control. They need a flow control system to split the plant flow evenly between the two trains that would enable fine grain flow control. This distribution system should keep flow control for each train independent - such that decreasing one train's flow doesn't increase the other's. \n",
    "\n",
    "## Existing Conduction Line\n",
    "The existing conduction line is composed of two independent pipes of 4\" and 6\" size. Presumably, one was added after the other in an attempt to augment the flow rate. Two pressure breaks, one for each line, are located 30 meters higher in elevation and 455 meters away from the proposed plant site. By definition, these two pressure breaks have a free surface, and therefore the difference in elevation between the pressure break and the plant's entrance tank represents the maximum available head for delivering, splitting and controlling the flow. The diagram below summarizes the existing system components:\n",
    "\n",
    "<img src=\"https://docs.google.com/drawings/d/e/2PACX-1vTYoz334ZI_fy6hpKUyfmm7Ap24bQDkuBVZXC4JJvACmSd-VeLFAUI5RsWscA-FHlxnKEQmn-Kz-H0U/pub?w=1056&h=816\">\n",
    "\n",
    "## Use the Existing 4\" and 6\" Lines\n",
    "The simplest solution is to use the current pressure break as the flow distribution system with the two existing lines (4\" and 6\") as the incoming lines for each train. To make sure this will work, we need to ensure the 4\" line can handle the full 60 L/s"
   ]
  },
  {
   "cell_type": "code",
   "execution_count": 25,
   "metadata": {
    "ExecuteTime": {
     "end_time": "2017-09-20T22:40:01.495232Z",
     "start_time": "2017-09-20T22:40:01.488481Z"
    },
    "collapsed": true
   },
   "outputs": [],
   "source": [
    "##################    Imports       #################### (only run once)\n",
    "import aide_design.physchem as pc\n",
    "from aide_design.units import unit_registry as u\n",
    "import aide_design.expert_inputs as exp\n",
    "import aide_design.materials_database as mat\n",
    "import aide_design.pipedatabase as pipe\n",
    "import matplotlib.pyplot as plt\n",
    "import numpy as np\n",
    "import pandas as pd\n",
    "pipe.ID_sch40 = np.vectorize(pipe.ID_sch40)\n",
    "from IPython.display import YouTubeVideo\n"
   ]
  },
  {
   "cell_type": "code",
   "execution_count": 26,
   "metadata": {
    "ExecuteTime": {
     "end_time": "2017-09-20T22:40:05.022305Z",
     "start_time": "2017-09-20T22:40:04.967518Z"
    }
   },
   "outputs": [
    {
     "name": "stdout",
     "output_type": "stream",
     "text": [
      "Headloss in 4 inch line: 289.948452259741 meter and available head is: 32.11999999999989 meter\n",
      "Headloss in 6 inch line: 40.356256774445896 meter and available head is: 33.289999999999964 meter\n",
      "Flow to the plant with both lines is: 74.30510315132788 liter / second\n"
     ]
    }
   ],
   "source": [
    "##################      Constants         #################\n",
    "flow = 60 *u.L/u.s\n",
    "full_flow = flow * 2\n",
    "nd_pipe_train_4 = 4 *u.inch\n",
    "sdr_pipe = 17\n",
    "nd_pipe_train_6 = 6 * u.inch\n",
    "\n",
    "# these measurements are from Minty's notebook\n",
    "pipe_length_trains = 455.06 *u.m\n",
    "height_pressure_break_4 = 1090.12 * u.m\n",
    "height_pressure_break_6 = 1091.29 * u.m\n",
    "\n",
    "# this measurement is from AutoCAD\n",
    "height_plant = 1058 * u.m\n",
    "\n",
    "PVC_ROUGHNESS = mat.PIPE_ROUGH_PVC\n",
    "NU_WATER = exp.NU_WATER \n",
    "\n",
    "# a conservative estimate for k\n",
    "k_pipe = exp.K_MINOR_EL90 * 7\n",
    "\n",
    "# Getting function inputs into simple form\n",
    "head_4 = height_pressure_break_4 - height_plant\n",
    "head_6 = height_pressure_break_6 - height_plant\n",
    "diam_4 = pipe.ID_SDR(nd_pipe_train_4, sdr_pipe)\n",
    "diam_6 = pipe.ID_SDR(nd_pipe_train_6, sdr_pipe)\n",
    "\n",
    "#################### headloss calculations    ############################\n",
    "\n",
    "headloss_train_4 = pc.headloss(flow, diam_4, pipe_length_trains,NU_WATER,PVC_ROUGHNESS,k_pipe)\n",
    "headloss_train_6 = pc.headloss(flow, diam_6, pipe_length_trains,NU_WATER,PVC_ROUGHNESS,k_pipe)\n",
    "\n",
    "print(\"Headloss in 4 inch line: \" + str(headloss_train_4) + \" and available head is: \" + str(head_4))\n",
    "print(\"Headloss in 6 inch line: \" + str(headloss_train_6) + \" and available head is: \" + str(head_6))\n",
    "\n",
    "##################### total flow calculation    ###########################\n",
    "\n",
    "flow_4 = pc.flow_pipe(diam_4,head_4,pipe_length_trains,NU_WATER,PVC_ROUGHNESS,k_pipe)\n",
    "flow_6 = pc.flow_pipe(diam_6,head_6,pipe_length_trains,NU_WATER,PVC_ROUGHNESS,k_pipe)\n",
    "flow_actual_with_two_lines = (flow_4 + flow_6).to(u.L/u.s)\n",
    "\n",
    "print(\"Flow to the plant with both lines is: \" + str(flow_actual_with_two_lines))"
   ]
  },
  {
   "cell_type": "markdown",
   "metadata": {
    "variables": {
     "flow_actual_with_two_lines": "$74.30510315132788\\ \\frac{\\mathrm{liter}}{\\mathrm{second}}$",
     "full_flow": "$120.0\\ \\frac{\\mathrm{liter}}{\\mathrm{second}}$"
    }
   },
   "source": [
    "The headloss across both lines is too much for this system to supply the required {{full_flow}}. With these two lines, the most flow we could have is {{flow_actual_with_two_lines}}"
   ]
  },
  {
   "cell_type": "markdown",
   "metadata": {
    "variables": {
     "flow": "$60.0\\ \\frac{\\mathrm{liter}}{\\mathrm{second}}$"
    }
   },
   "source": [
    "## Changing the Pipes\n",
    "The headloss in both the 4\" and 6\" lines is too great to handle the {{flow}} flow rate. Therefore larger diameter pipe needs to be installed to reduce the headloss in the conduction line(s). There are multiple options for how to both increase the conduction line capacitiy and split the flow efficiently:\n",
    "\n",
    "* Distribution box at the plant with one large conduction line running from the existing plants.\n",
    "* Distribution box at the location of the current pressure breaks, with two lines running to the plant, one for each train.\n",
    "* Combine the flow with Ys from the two current pressure breaks into a large line, and split at the plant into each train\n",
    "\n",
    "The first two options involve the construction of a distribution box, an unnecessary, more complex and expensive solution. All options will use two gate valves (one for each train) at each train entrance tank for fine-grain control of each flow rate.\n",
    "\n",
    "\n",
    "\n",
    "\n",
    "\n",
    "Below is a graph that lists the headloss at different pipe sizes given the parameters of this plant:"
   ]
  },
  {
   "cell_type": "code",
   "execution_count": 27,
   "metadata": {
    "ExecuteTime": {
     "end_time": "2017-09-20T22:40:08.609941Z",
     "start_time": "2017-09-20T22:40:08.397341Z"
    }
   },
   "outputs": [
    {
     "data": {
      "image/png": "[encoded data removed]",
      "text/plain": [
       "<matplotlib.figure.Figure at 0x110f0e710>"
      ]
     },
     "metadata": {},
     "output_type": "display_data"
    },
    {
     "data": {
      "text/html": [
       "<div>\n",
       "<style>\n",
       "    .dataframe thead tr:only-child th {\n",
       "        text-align: right;\n",
       "    }\n",
       "\n",
       "    .dataframe thead th {\n",
       "        text-align: left;\n",
       "    }\n",
       "\n",
       "    .dataframe tbody tr th {\n",
       "        vertical-align: top;\n",
       "    }\n",
       "</style>\n",
       "<table border=\"1\" class=\"dataframe\">\n",
       "  <thead>\n",
       "    <tr style=\"text-align: right;\">\n",
       "      <th></th>\n",
       "      <th>6</th>\n",
       "      <th>8</th>\n",
       "      <th>10</th>\n",
       "      <th>12</th>\n",
       "    </tr>\n",
       "  </thead>\n",
       "  <tbody>\n",
       "    <tr>\n",
       "      <th>Pipe ID (inch)</th>\n",
       "      <td>6.065000</td>\n",
       "      <td>7.981000</td>\n",
       "      <td>10.020000</td>\n",
       "      <td>12.000000</td>\n",
       "    </tr>\n",
       "    <tr>\n",
       "      <th>Headloss (m)</th>\n",
       "      <td>131.650497</td>\n",
       "      <td>32.984685</td>\n",
       "      <td>10.632715</td>\n",
       "      <td>4.383243</td>\n",
       "    </tr>\n",
       "  </tbody>\n",
       "</table>\n",
       "</div>"
      ],
      "text/plain": [
       "                        6          8          10         12\n",
       "Pipe ID (inch)    6.065000   7.981000  10.020000  12.000000\n",
       "Headloss (m)    131.650497  32.984685  10.632715   4.383243"
      ]
     },
     "execution_count": 27,
     "metadata": {},
     "output_type": "execute_result"
    }
   ],
   "source": [
    "# Setup x and y values.\n",
    "pipe_diameter_id_smooth = np.linspace(6, 12) * u.inch\n",
    "headloss_various_diameters_smooth = pc.headloss(full_flow, pipe_diameter_id_smooth, pipe_length_trains,NU_WATER,PVC_ROUGHNESS,k_pipe)\n",
    "\n",
    "\n",
    "#Graph headloss for different pipe diameters\n",
    "plt.figure(0)\n",
    "plt.plot(pipe_diameter_id_smooth, headloss_various_diameters_smooth, 'r-')\n",
    "plt.xlabel('Pipe Diameter (ID, inch)')\n",
    "plt.ylabel('Headloss (m)')\n",
    "plt.title('Total Headloss Through Various Pipe Diameters')\n",
    "plt.legend(['Horizontal Orientation', 'Vertical orientation'], loc='best')\n",
    "plt.grid(True)\n",
    "plt.show()\n",
    "\n",
    "# Make a table with available pipe sizes\n",
    "pipe_sdr = 26\n",
    "pipe_diameters_nd = [6,8,10,12]#*u.inch\n",
    "pipe_diameters_id = pipe.ID_sch40(pipe_diameters_nd)\n",
    "headloss_various_diameters = pc.headloss(full_flow, pipe_diameters_id*u.inch, \n",
    "                                         pipe_length_trains,NU_WATER,PVC_ROUGHNESS,k_pipe)\n",
    "pd.DataFrame(np.array([pipe_diameters_id,headloss_various_diameters.magnitude]),\n",
    "             columns=pipe_diameters_nd, index=['Pipe ID (inch)','Headloss (m)'])"
   ]
  },
  {
   "cell_type": "markdown",
   "metadata": {},
   "source": [
    "Using a 10 inch or 12 inch pipe would potentially leave enough remaining available headloss to use for flow control. \n",
    "\n",
    "## Flow Distribution\n",
    "Now the question is about flow distribution. The effect of shutting off one train potentially effects the flow rate of the other. Determining the extent of this effect is a flow distribution problem, much like those done throughout plant design. By studying the various flow paths, one can determine the effect of shutting off a flow path during the worst case scenario. There are several steps to designing the optimal system. First, the goal is to reduce the headloss in the shared line, because that headloss changes when one branch is turned off and the flow rate is halved. As that headloss changes, the leftover headloss is taken up by the remaining line, increasing flow. The steps to define the optimal pipe configuration are as follows:\n",
    "\n",
    "1. Make a guess for the ideal pipe geometry, attempting to minimize shared headloss and maximize train branch headloss.\n",
    "2. Determine minor and major losses throughout the system.\n",
    "3. Calculate the effect of cross-talk over a range of flow rates.\n",
    "\n",
    "### Pipe Length Calculations\n",
    "\n",
    "The initial pipe design is based on limited knowledge of the site, and is supposed to convey a conservative guess for the condction and distribution line geometry. When a full topography of the site and the two upstream pressure breaks, a more precise design will be made and analyzed. The video below is a rendering of the preliminary design of the conduction and train-distribution system:\n",
    "\n",
    "[![Gracias Pipe System](https://i.ytimg.com/vi/rrisS073HYU/hqdefault.jpg?sqp=-oaymwEXCNACELwBSFryq4qpAwkIARUAAIhCGAE=&amp;rs=AOn4CLD_nd9y84VffIrXDJmTwNGN4aAsyw)](https://www.youtube.com/watch?v=rrisS073HYU \"Gracias Pipe System\")\n",
    "\n",
    "### Headloss Calculation\n",
    "\n",
    "The headloss in the various components of the system is critical in calculating the effect of cross-talk.\n",
    "\n",
    "#### Headloss From the Pressure Break to the Tee\n",
    "\n",
    "The first section of the conduction line is where the two smaller lines join the 10\" conduction line. To calculate the headloss through the two pipes, an iterative approach is used. First, the flowrates for various headlosses through the 6\" and 4\" lines combined are calculated. Because the head of the 4\" and 6\" line is known to be the same at the Tee, it is assumed that the headloss is the same (pressure breaks have the same free surface.) When these two added flow rates together equal the full plant flow rate, the resulting headloss through both pipes represent the first losses in the distribution system: \n"
   ]
  },
  {
   "cell_type": "code",
   "execution_count": 39,
   "metadata": {
    "ExecuteTime": {
     "end_time": "2017-09-20T22:59:02.132834Z",
     "start_time": "2017-09-20T22:59:02.066665Z"
    }
   },
   "outputs": [
    {
     "name": "stdout",
     "output_type": "stream",
     "text": [
      "k value in 6 inch line: 1.28752624737\n",
      "k value in 4 inch line: 2.03559191916\n",
      "10\n",
      "10\n"
     ]
    },
    {
     "data": {
      "text/html": [
       "<div>\n",
       "<style>\n",
       "    .dataframe thead tr:only-child th {\n",
       "        text-align: right;\n",
       "    }\n",
       "\n",
       "    .dataframe thead th {\n",
       "        text-align: left;\n",
       "    }\n",
       "\n",
       "    .dataframe tbody tr th {\n",
       "        vertical-align: top;\n",
       "    }\n",
       "</style>\n",
       "<table border=\"1\" class=\"dataframe\">\n",
       "  <thead>\n",
       "    <tr style=\"text-align: right;\">\n",
       "      <th></th>\n",
       "      <th>1.0</th>\n",
       "      <th>2.0</th>\n",
       "      <th>3.0</th>\n",
       "      <th>4.0</th>\n",
       "      <th>5.0</th>\n",
       "      <th>6.0</th>\n",
       "      <th>7.0</th>\n",
       "      <th>8.0</th>\n",
       "      <th>9.0</th>\n",
       "      <th>10.0</th>\n",
       "    </tr>\n",
       "  </thead>\n",
       "  <tbody>\n",
       "    <tr>\n",
       "      <th>Headloss (m)</th>\n",
       "      <td>1.000000</td>\n",
       "      <td>2.000000</td>\n",
       "      <td>3.000000</td>\n",
       "      <td>4.000000</td>\n",
       "      <td>5.000000</td>\n",
       "      <td>6.000000</td>\n",
       "      <td>7.000000</td>\n",
       "      <td>8.000000</td>\n",
       "      <td>9.000</td>\n",
       "      <td>10.000000</td>\n",
       "    </tr>\n",
       "    <tr>\n",
       "      <th>Flow Rate (L/s)</th>\n",
       "      <td>45.144415</td>\n",
       "      <td>63.957844</td>\n",
       "      <td>78.392485</td>\n",
       "      <td>90.560499</td>\n",
       "      <td>101.280087</td>\n",
       "      <td>110.970869</td>\n",
       "      <td>119.882113</td>\n",
       "      <td>128.176222</td>\n",
       "      <td>135.966</td>\n",
       "      <td>143.333575</td>\n",
       "    </tr>\n",
       "  </tbody>\n",
       "</table>\n",
       "</div>"
      ],
      "text/plain": [
       "                      1.0        2.0        3.0        4.0         5.0   \\\n",
       "Headloss (m)      1.000000   2.000000   3.000000   4.000000    5.000000   \n",
       "Flow Rate (L/s)  45.144415  63.957844  78.392485  90.560499  101.280087   \n",
       "\n",
       "                       6.0         7.0         8.0      9.0         10.0  \n",
       "Headloss (m)       6.000000    7.000000    8.000000    9.000   10.000000  \n",
       "Flow Rate (L/s)  110.970869  119.882113  128.176222  135.966  143.333575  "
      ]
     },
     "execution_count": 39,
     "metadata": {},
     "output_type": "execute_result"
    }
   ],
   "source": [
    "import aide_design.k_value_of_reductions_utility as k\n",
    "\n",
    "diam_10 = pipe.ID_SDR(10, sdr_pipe)\n",
    "\n",
    "# conservative minor loss coefficient in both lines pressure break to tee:\n",
    "k_value_pressure_break_to_tee_6_inch = exp.K_MINOR_PIPE_ENTRANCE + \\\n",
    "    exp.K_MINOR_90 + k.k_value_expansion(diam_6, diam_10, full_flow)\n",
    "k_value_pressure_break_to_tee_4_inch = exp.K_MINOR_PIPE_ENTRANCE + \\\n",
    "    exp.K_MINOR_90 + exp.K_MINOR_EL45 + k.k_value_expansion(diam_4, diam_10, full_flow)\n",
    "\n",
    "print(\"k value in 6 inch line: \" + str(k_value_pressure_break_to_tee_6_inch))\n",
    "print('k value in 4 inch line: ' + str(k_value_pressure_break_to_tee_4_inch))\n",
    "\n",
    "# conservative pipe lengths from pressure break to tee:\n",
    "l_pressure_break_to_tee_6_inch = 4 * u.m\n",
    "l_pressure_break_to_tee_4_inch = 4 * u.m\n",
    "\n",
    "# determine headloss through both 4\" and 6\" pipes by defining headloss range:\n",
    "headloss_range_pressure_break_to_tee = np.linspace(1,10,10) * u.m\n",
    "# calculate the added flow rates for all the headlosses in the range:\n",
    "flow_range_pressure_break_to_tee = pc.flow_pipe(diam_4, headloss_range_pressure_break_to_tee, \n",
    "                                                l_pressure_break_to_tee_4_inch, exp.NU_WATER, mat.PIPE_ROUGH_PVC,\n",
    "                                               k_value_pressure_break_to_tee_4_inch) + \\\n",
    "    pc.flow_pipe(diam_4, headloss_range_pressure_break_to_tee, \n",
    "                                                l_pressure_break_to_tee_6_inch, exp.NU_WATER, mat.PIPE_ROUGH_PVC,\n",
    "                                               k_value_pressure_break_to_tee_6_inch)\n",
    "print(flow_range_pressure_break_to_tee.size)\n",
    "print(headloss_range_pressure_break_to_tee.size)\n",
    "\n",
    "pd.DataFrame(np.array([np.array(headloss_range_pressure_break_to_tee),np.array(flow_range_pressure_break_to_tee.to(u.L/u.s))]),\n",
    "             columns=headloss_range_pressure_break_to_tee, index=['Headloss (m)', 'Flow Rate (L/s)'])\n"
   ]
  },
  {
   "cell_type": "markdown",
   "metadata": {},
   "source": [
    "8 m of head is lost to the entrance in order to supply the full plant flow. This is a significant portion of the full flow, and is in the shared headloss section, meaning it will negatively impact the flow distribution cross-talk error."
   ]
  },
  {
   "cell_type": "markdown",
   "metadata": {},
   "source": [
    "\n",
    "\n",
    "## Gate Valve Calculation\n",
    "The first is to determine the minimum gate valve that can be used assuming low headloss in the rest of the system. Flow through the gate valves can be modeled as a short (6\") section of pipe with a k value of 0.17 according to https://neutrium.net/fluid_flow/pressure-loss-from-fittings-excess-head-k-method/.  :"
   ]
  },
  {
   "cell_type": "code",
   "execution_count": null,
   "metadata": {
    "ExecuteTime": {
     "end_time": "2017-09-20T22:22:00.648126Z",
     "start_time": "2017-09-20T22:21:59.628Z"
    }
   },
   "outputs": [],
   "source": [
    "pipe_diameters_gate_valve_nd = [3,4,6,8]*u.inch\n",
    "pipe_diameters_gate_valve_id = pipe.ID_sch40(pipe_diameters_gate_valve_nd)\n",
    "branch_length = 4*u.m\n",
    "gate_valve_k_value = 0.17\n",
    "branch_k_value = exp.K_MINOR_EL90 * 3 + gate_valve_k_value\n",
    "headloss_various_diameters_gate_valve = pc.headloss(flow, pipe_diameters_gate_valve_id*u.inch, branch_length,NU_WATER,PVC_ROUGHNESS,branch_k_value)\n",
    "\n",
    "k_trunk = exp.K_MINOR_90*3+\n",
    "\n",
    "pd.DataFrame(np.array([pipe_diameters_gate_valve_id,headloss_various_diameters_gate_valve.magnitude]),columns=pipe_diameters_gate_valve_nd, index=['Pipe ID (inch)','Headloss (m)'])\n"
   ]
  },
  {
   "cell_type": "code",
   "execution_count": null,
   "metadata": {
    "collapsed": true
   },
   "outputs": [],
   "source": []
  }
 ],
 "metadata": {
  "kernelspec": {
   "display_name": "plant_notebooks",
   "language": "python",
   "name": "plant_notebooks"
  },
  "language_info": {
   "codemirror_mode": {
    "name": "ipython",
    "version": 3
   },
   "file_extension": ".py",
   "mimetype": "text/x-python",
   "name": "python",
   "nbconvert_exporter": "python",
   "pygments_lexer": "ipython3",
   "version": "3.6.0"
  },
  "varInspector": {
   "cols": {
    "lenName": 16,
    "lenType": 16,
    "lenVar": 40
   },
   "kernels_config": {
    "python": {
     "delete_cmd_postfix": "",
     "delete_cmd_prefix": "del ",
     "library": "var_list.py",
     "varRefreshCmd": "print(var_dic_list())"
    },
    "r": {
     "delete_cmd_postfix": ") ",
     "delete_cmd_prefix": "rm(",
     "library": "var_list.r",
     "varRefreshCmd": "cat(var_dic_list()) "
    }
   },
   "position": {
    "height": "121px",
    "left": "732px",
    "right": "20px",
    "top": "126px",
    "width": "417px"
   },
   "types_to_exclude": [
    "module",
    "function",
    "builtin_function_or_method",
    "instance",
    "_Feature"
   ],
   "window_display": false
  }
 },
 "nbformat": 4,
 "nbformat_minor": 1
}
