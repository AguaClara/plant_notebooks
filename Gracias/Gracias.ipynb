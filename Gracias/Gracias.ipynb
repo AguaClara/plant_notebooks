{
 "cells": [
  {
   "cell_type": "markdown",
   "metadata": {
    "collapsed": true
   },
   "source": [
    "# Flow Distribution for the Two Treatment Trains\n",
    "The two 60 L/s trains need separate flow control. We would like a system to split the plant flow evenly between the two trains that would enable flow control with a valve above each entrance tank. This distribution system should keep flow control for each train independent - such that decreasing one train's flow doesn't increase the other's. \n",
    "\n",
    "## Use the Existing 4\" and 6\" Lines\n",
    "The simplest solution is to use the current pressure break as the flow distribution system with the two existing lines (4\" and 6\") as the incoming lines for each train. To make sure this will work, we need to ensure the 4\" line can handle the full 60 L/s"
   ]
  },
  {
   "cell_type": "code",
   "execution_count": null,
   "metadata": {},
   "outputs": [
    {
     "name": "stdout",
     "output_type": "stream",
     "text": [
      "Headloss in 4 inch line: 289.948452259741 meter and available head is: 32.11999999999989 meter\n",
      "Headloss in 6 inch line: 40.356256774445896 meter and available head is: 33.289999999999964 meter\n",
      "Flow to the plant with both lines is: 74.30510315132788 liter / second\n"
     ]
    }
   ],
   "source": [
    "##################    Imports       ####################\n",
    "import aide_design.physchem as pc\n",
    "from aide_design.units import unit_registry as u\n",
    "import aide_design.expert_inputs as ei\n",
    "import aide_design.materials_database as mat\n",
    "import aide_design.pipedatabase as pipe\n",
    "\n",
    "\n",
    "##################      Constants         #################\n",
    "flow = 60 *u.L/u.s\n",
    "full_flow = flow * 2\n",
    "nd_pipe_train_4 = 4 *u.inch\n",
    "sdr_pipe = 17\n",
    "nd_pipe_train_6 = 6 * u.inch\n",
    "\n",
    "# these measurements are from Minty's notebook\n",
    "pipe_length_trains = 455.06 *u.m\n",
    "height_pressure_break_4 = 1090.12 * u.m\n",
    "height_pressure_break_6 = 1091.29 * u.m\n",
    "\n",
    "# this measurement is from AutoCAD\n",
    "height_plant = 1058 * u.m\n",
    "\n",
    "PVC_ROUGHNESS = mat.PIPE_ROUGH_PVC\n",
    "NU_WATER = ei.NU_WATER \n",
    "\n",
    "# a conservative estimate for k\n",
    "k_pipe = ei.K_MINOR_EL90 * 7\n",
    "\n",
    "# Getting function inputs into simple form\n",
    "head_4 = height_pressure_break_4 - height_plant\n",
    "head_6 = height_pressure_break_6 - height_plant\n",
    "diam_4 = pipe.ID_SDR(nd_pipe_train_4, sdr_pipe)\n",
    "diam_6 = pipe.ID_SDR(nd_pipe_train_6, sdr_pipe)\n",
    "\n",
    "#################### headloss calculations    ############################\n",
    "\n",
    "headloss_train_4 = pc.headloss(flow, diam_4, pipe_length_trains,NU_WATER,PVC_ROUGHNESS,k_pipe)\n",
    "headloss_train_6 = pc.headloss(flow, diam_6, pipe_length_trains,NU_WATER,PVC_ROUGHNESS,k_pipe)\n",
    "\n",
    "print(\"Headloss in 4 inch line: \" + str(headloss_train_4) + \" and available head is: \" + str(head_4))\n",
    "print(\"Headloss in 6 inch line: \" + str(headloss_train_6) + \" and available head is: \" + str(head_6))\n",
    "\n",
    "##################### total flow calculation    ###########################\n",
    "\n",
    "flow_4 = pc.flow_pipe(diam_4,head_4,pipe_length_trains,NU_WATER,PVC_ROUGHNESS,k_pipe)\n",
    "flow_6 = pc.flow_pipe(diam_6,head_6,pipe_length_trains,NU_WATER,PVC_ROUGHNESS,k_pipe)\n",
    "flow_actual_with_two_lines = (flow_4 + flow_6).to(u.L/u.s)\n",
    "\n",
    "print(\"Flow to the plant with both lines is: \" + str(flow_actual_with_two_lines))"
   ]
  },
  {
   "cell_type": "markdown",
   "metadata": {
    "variables": {
     "str(flow_actual_with_two_lines)": "74.30510315132788 liter / second",
     "str(full_flow)": "120.0 liter / second"
    }
   },
   "source": [
    "The headloss across both lines is too much for this system to supply the required {{full_flow}}. With these two lines, the most flow we could have is {{flow_actual_with_two_lines}}"
   ]
  },
  {
   "cell_type": "markdown",
   "metadata": {
    "variables": {
     "flow": "$60.0\\ \\frac{\\mathrm{liter}}{\\mathrm{second}}$"
    }
   },
   "source": [
    "## Changing the Pipes\n",
    "The headloss in both the 4\" and 6\" lines is too great to handle the {{flow}} flow rate. It looks like we'll need to increase the pipe(s) size between the pressure break and the plant in order to increase the flow rate. W"
   ]
  }
 ],
 "metadata": {
  "kernelspec": {
   "display_name": "plant_notebooks",
   "language": "python",
   "name": "plant_notebooks"
  },
  "language_info": {
   "codemirror_mode": {
    "name": "ipython",
    "version": 3
   },
   "file_extension": ".py",
   "mimetype": "text/x-python",
   "name": "python",
   "nbconvert_exporter": "python",
   "pygments_lexer": "ipython3",
   "version": "3.6.0"
  }
 },
 "nbformat": 4,
 "nbformat_minor": 1
}
