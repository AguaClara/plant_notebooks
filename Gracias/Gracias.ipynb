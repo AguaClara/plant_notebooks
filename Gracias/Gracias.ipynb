{
 "cells": [
  {
   "cell_type": "markdown",
   "metadata": {
    "collapsed": true
   },
   "source": [
    "# Flow Distribution for the Two Treatment Trains\n",
    "## Problem Definition\n",
    "The two 60 L/s trains need proper flow control. They need a flow control system to split the plant flow evenly between the two trains that would enable fine grain flow control. This distribution system should keep flow control for each train independent - such that decreasing one train's flow doesn't increase the other's. \n",
    "\n",
    "## Existing Conduction Line\n",
    "The existing conduction line is composed of two independent pipes of 4\" and 6\" size. Presumably, one was added after the other in an attempt to augment the flow rate. Two pressure breaks, one for each line, are located 30 meters higher in elevation and 455 meters away from the proposed plant site. By definition, these two pressure breaks have a free surface, and therefore the difference in elevation between the pressure break and the plant's entrance tank represents the maximum available head for delivering, splitting and controlling the flow. The diagram below summarizes the existing system components:\n",
    "\n",
    "<img src=\"https://docs.google.com/drawings/d/e/2PACX-1vTYoz334ZI_fy6hpKUyfmm7Ap24bQDkuBVZXC4JJvACmSd-VeLFAUI5RsWscA-FHlxnKEQmn-Kz-H0U/pub?w=1056&h=816\">\n",
    "\n",
    "## Use the Existing 4\" and 6\" Lines\n",
    "The simplest solution is to use the current pressure break as the flow distribution system with the two existing lines (4\" and 6\") as the incoming lines for each train. To make sure this will work, we need to ensure the 4\" line can handle the full 60 L/s"
   ]
  },
  {
   "cell_type": "code",
   "execution_count": 13,
   "metadata": {},
   "outputs": [
    {
     "name": "stdout",
     "output_type": "stream",
     "text": [
      "Headloss in 4 inch line: 289.948452259741 meter and available head is: 32.11999999999989 meter\nHeadloss in 6 inch line: 40.356256774445896 meter and available head is: 33.289999999999964 meter\nFlow to the plant with both lines is: 74.30510315132788 liter / second\n"
     ]
    }
   ],
   "source": [
    "##################    Imports       ####################\n",
    "import aide_design.physchem as pc\n",
    "from aide_design.units import unit_registry as u\n",
    "import aide_design.expert_inputs as ei\n",
    "import aide_design.materials_database as mat\n",
    "import aide_design.pipedatabase as pipe\n",
    "import matplotlib.pyplot as plt\n",
    "import numpy as np\n",
    "import pandas as pd\n",
    "\n",
    "\n",
    "##################      Constants         #################\n",
    "flow = 60 *u.L/u.s\n",
    "full_flow = flow * 2\n",
    "nd_pipe_train_4 = 4 *u.inch\n",
    "sdr_pipe = 17\n",
    "nd_pipe_train_6 = 6 * u.inch\n",
    "\n",
    "# these measurements are from Minty's notebook\n",
    "pipe_length_trains = 455.06 *u.m\n",
    "height_pressure_break_4 = 1090.12 * u.m\n",
    "height_pressure_break_6 = 1091.29 * u.m\n",
    "\n",
    "# this measurement is from AutoCAD\n",
    "height_plant = 1058 * u.m\n",
    "\n",
    "PVC_ROUGHNESS = mat.PIPE_ROUGH_PVC\n",
    "NU_WATER = ei.NU_WATER \n",
    "\n",
    "# a conservative estimate for k\n",
    "k_pipe = ei.K_MINOR_EL90 * 7\n",
    "\n",
    "# Getting function inputs into simple form\n",
    "head_4 = height_pressure_break_4 - height_plant\n",
    "head_6 = height_pressure_break_6 - height_plant\n",
    "diam_4 = pipe.ID_SDR(nd_pipe_train_4, sdr_pipe)\n",
    "diam_6 = pipe.ID_SDR(nd_pipe_train_6, sdr_pipe)\n",
    "\n",
    "#################### headloss calculations    ############################\n",
    "\n",
    "headloss_train_4 = pc.headloss(flow, diam_4, pipe_length_trains,NU_WATER,PVC_ROUGHNESS,k_pipe)\n",
    "headloss_train_6 = pc.headloss(flow, diam_6, pipe_length_trains,NU_WATER,PVC_ROUGHNESS,k_pipe)\n",
    "\n",
    "print(\"Headloss in 4 inch line: \" + str(headloss_train_4) + \" and available head is: \" + str(head_4))\n",
    "print(\"Headloss in 6 inch line: \" + str(headloss_train_6) + \" and available head is: \" + str(head_6))\n",
    "\n",
    "##################### total flow calculation    ###########################\n",
    "\n",
    "flow_4 = pc.flow_pipe(diam_4,head_4,pipe_length_trains,NU_WATER,PVC_ROUGHNESS,k_pipe)\n",
    "flow_6 = pc.flow_pipe(diam_6,head_6,pipe_length_trains,NU_WATER,PVC_ROUGHNESS,k_pipe)\n",
    "flow_actual_with_two_lines = (flow_4 + flow_6).to(u.L/u.s)\n",
    "\n",
    "print(\"Flow to the plant with both lines is: \" + str(flow_actual_with_two_lines))"
   ]
  },
  {
   "cell_type": "markdown",
   "metadata": {
    "variables": {
     "str(flow_actual_with_two_lines)": "74.30510315132788 liter / second",
     "str(full_flow)": "120.0 liter / second"
    }
   },
   "source": [
    "The headloss across both lines is too much for this system to supply the required {{full_flow}}. With these two lines, the most flow we could have is {{flow_actual_with_two_lines}}"
   ]
  },
  {
   "cell_type": "markdown",
   "metadata": {
    "variables": {
     "flow": "$60.0\\ \\frac{\\mathrm{liter}}{\\mathrm{second}}$"
    }
   },
   "source": [
    "## Changing the Pipes\n",
    "The headloss in both the 4\" and 6\" lines is too great to handle the {{flow}} flow rate. Larger diameter pipe needs to be installed to reduce the headloss in the conduction line(s). Below is a graph that lists the headloss at different pipe sizes given the parameters of this plant: "
   ]
  },
  {
   "cell_type": "code",
   "execution_count": 18,
   "metadata": {
    "collapsed": true
   },
   "outputs": [
    {
     "data": {
      "image/png": "[encoded data removed]",
      "text/plain": [
       "<matplotlib.figure.Figure at 0x116710668>"
      ]
     },
     "metadata": {},
     "output_type": "display_data"
    },
    {
     "name": "stdout",
     "output_type": "stream",
     "text": [
      "50\n50\n"
     ]
    },
    {
     "ename": "ValueError",
     "evalue": "setting an array element with a sequence.",
     "traceback": [
      "\u001b[0;31m---------------------------------------------------------------------------\u001b[0m",
      "\u001b[0;31mValueError\u001b[0m                                Traceback (most recent call last)",
      "\u001b[0;32m<ipython-input-18-43dfe437a251>\u001b[0m in \u001b[0;36m<module>\u001b[0;34m()\u001b[0m\n\u001b[1;32m     14\u001b[0m \u001b[0mprint\u001b[0m\u001b[0;34m(\u001b[0m\u001b[0mpipe_diameters\u001b[0m\u001b[0;34m.\u001b[0m\u001b[0msize\u001b[0m\u001b[0;34m)\u001b[0m\u001b[0;34m\u001b[0m\u001b[0m\n\u001b[1;32m     15\u001b[0m \u001b[0mprint\u001b[0m\u001b[0;34m(\u001b[0m\u001b[0mheadloss_various_diameters\u001b[0m\u001b[0;34m.\u001b[0m\u001b[0msize\u001b[0m\u001b[0;34m)\u001b[0m\u001b[0;34m\u001b[0m\u001b[0m\n\u001b[0;32m---> 16\u001b[0;31m \u001b[0mnp\u001b[0m\u001b[0;34m.\u001b[0m\u001b[0marray\u001b[0m\u001b[0;34m(\u001b[0m\u001b[0;34m[\u001b[0m\u001b[0mpipe_diameters\u001b[0m\u001b[0;34m,\u001b[0m\u001b[0mheadloss_various_diameters\u001b[0m\u001b[0;34m]\u001b[0m\u001b[0;34m)\u001b[0m\u001b[0;34m\u001b[0m\u001b[0m\n\u001b[0m\u001b[1;32m     17\u001b[0m \u001b[0;31m#pd.DataFrame(np.array([pipe_diameters,headloss_various_diameters]))\u001b[0m\u001b[0;34m\u001b[0m\u001b[0;34m\u001b[0m\u001b[0m\n",
      "\u001b[0;31mValueError\u001b[0m: setting an array element with a sequence."
     ],
     "output_type": "error"
    }
   ],
   "source": [
    "pipe_diameters = np.linspace(6, 12) * u.inch\n",
    "headloss_various_diameters = pc.headloss(flow, pipe_diameters, pipe_length_trains,NU_WATER,PVC_ROUGHNESS,k_pipe)\n",
    "\n",
    "\n",
    "\n",
    "plt.figure(0)\n",
    "plt.plot(pipe_diameters, headloss_various_diameters, 'r-')\n",
    "plt.xlabel('Pipe Diameter (ID, inch)')\n",
    "plt.ylabel('Headloss (m)')\n",
    "plt.title('Total Headloss Through Various Pipe Diameters')\n",
    "plt.legend(['Horizontal Orientation', 'Vertical orientation'], loc='best')\n",
    "plt.grid(True)\n",
    "plt.show()\n",
    "print(pipe_diameters.size)\n",
    "print(headloss_various_diameters.size)\n",
    "np.array([pipe_diameters,headloss_various_diameters])\n",
    "#pd.DataFrame(np.array([pipe_diameters,headloss_various_diameters]))"
   ]
  },
  {
   "cell_type": "code",
   "execution_count": null,
   "metadata": {},
   "outputs": [],
   "source": []
  }
 ],
 "metadata": {
  "kernelspec": {
   "display_name": "plant_notebooks",
   "language": "python",
   "name": "plant_notebooks"
  },
  "language_info": {
   "codemirror_mode": {
    "name": "ipython",
    "version": 3
   },
   "file_extension": ".py",
   "mimetype": "text/x-python",
   "name": "python",
   "nbconvert_exporter": "python",
   "pygments_lexer": "ipython3",
   "version": "3.6.0"
  }
 },
 "nbformat": 4,
 "nbformat_minor": 1
}
